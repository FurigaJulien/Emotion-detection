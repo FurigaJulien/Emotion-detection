{
 "metadata": {
  "language_info": {
   "codemirror_mode": {
    "name": "ipython",
    "version": 3
   },
   "file_extension": ".py",
   "mimetype": "text/x-python",
   "name": "python",
   "nbconvert_exporter": "python",
   "pygments_lexer": "ipython3",
   "version": "3.8.3-final"
  },
  "orig_nbformat": 2,
  "kernelspec": {
   "name": "python3",
   "display_name": "Python 3.8.3 64-bit (conda)",
   "metadata": {
    "interpreter": {
     "hash": "0d6ba7c136e62973ab63962a1d3667069dfad9d27e40dfd12540e841fa15596f"
    }
   }
  }
 },
 "nbformat": 4,
 "nbformat_minor": 2,
 "cells": [
  {
   "source": [
    "import cv2\n",
    "import tensorflow as tf\n",
    "from tensorflow.keras.preprocessing.image import img_to_array\n",
    "import numpy as np\n",
    "import simpleaudio as sa\n",
    "from  time import time"
   ],
   "cell_type": "code",
   "metadata": {},
   "execution_count": 8,
   "outputs": []
  },
  {
   "cell_type": "code",
   "execution_count": 9,
   "metadata": {},
   "outputs": [],
   "source": [
    "model=tf.keras.models.load_model(\"emotion_classification_model\")"
   ]
  },
  {
   "cell_type": "code",
   "execution_count": 10,
   "metadata": {},
   "outputs": [],
   "source": [
    "face_cascade = cv2.CascadeClassifier('haarcascade_frontalface_default.xml')"
   ]
  },
  {
   "cell_type": "code",
   "execution_count": 11,
   "metadata": {},
   "outputs": [],
   "source": [
    "dictionnaire={0:'angry',1:'disgust',2:'fear',3:'happy',4:'neutral',5:'sad',6:'surprise'}"
   ]
  },
  {
   "cell_type": "code",
   "execution_count": 13,
   "metadata": {},
   "outputs": [],
   "source": [
    "cap= cv2.VideoCapture(0)\n",
    "\n",
    "width= int(cap.get(cv2.CAP_PROP_FRAME_WIDTH))\n",
    "height= int(cap.get(cv2.CAP_PROP_FRAME_HEIGHT))\n",
    "\n",
    "writer= cv2.VideoWriter('basicvideo.mp4', cv2.VideoWriter_fourcc(*'DIVX'), 20, (width,height))\n",
    "wave_obj = sa.WaveObject.from_wave_file(\"ressources/triste.wav\")\n",
    "timeStart=time()\n",
    "\n",
    "imagePathDict={0:\"ressources/angry.png\",1:\"ressources/disgust.png\",2:\"ressources/fear.png\",3:\"ressources/happy.png\",4:\"ressources/neutral.png\",5:\"ressources/sad.png\",6:\"ressources/surprise.png\"}\n",
    "\n",
    "i=0\n",
    "while True:\n",
    "    ret,frame= cap.read()\n",
    "    gray = cv2.cvtColor(frame, cv2.COLOR_BGR2GRAY)\n",
    "    faces = face_cascade.detectMultiScale(gray, 1.3, 5)\n",
    "    for (x,y,w,h) in faces:\n",
    "        frame = cv2.rectangle(frame,(x,y),(x+w,y+h),(255,0,0),2)\n",
    "        roi_gray = gray[y:y+h, x:x+w]\n",
    "        roi_gray=cv2.resize(roi_gray,(48,48))\n",
    "        x=img_to_array(roi_gray)\n",
    "        idx=np.argmax(model.predict(np.array(x).reshape(-1,48,48,1)))\n",
    "        image = cv2.putText(frame, dictionnaire[idx],(50, 50),cv2.FONT_HERSHEY_SIMPLEX,1,(255, 0, 0),2,cv2.LINE_AA)\n",
    "\n",
    "\n",
    "        s_img = cv2.imread(imagePathDict[idx])\n",
    "        s_img=cv2.resize(s_img,(50,50))\n",
    "\n",
    "        l_img = frame\n",
    "        x_offset=y_offset=50\n",
    "        frame[y_offset:y_offset+s_img.shape[0], x_offset:x_offset+s_img.shape[1]] = s_img\n",
    "\n",
    "        timeStop=time()\n",
    "        if timeStop-timeStart >15 and idx==5 :\n",
    "            timeStart=timeStop\n",
    "            play_obj = wave_obj.play()\n",
    "\n",
    "    \n",
    "\n",
    "    cv2.imshow('frame', frame)\n",
    "\n",
    "    if cv2.waitKey(1) == ord(\"q\"):\n",
    "        break\n",
    "\n",
    "\n",
    "cap.release()\n",
    "writer.release()\n",
    "cv2.destroyAllWindows()"
   ]
  }
 ]
}