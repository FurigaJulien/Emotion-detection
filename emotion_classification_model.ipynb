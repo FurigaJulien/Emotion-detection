{
  "nbformat": 4,
  "nbformat_minor": 0,
  "metadata": {
    "language_info": {
      "codemirror_mode": {
        "name": "ipython",
        "version": 3
      },
      "file_extension": ".py",
      "mimetype": "text/x-python",
      "name": "python",
      "nbconvert_exporter": "python",
      "pygments_lexer": "ipython3",
      "version": "3.8.3-final"
    },
    "orig_nbformat": 2,
    "kernelspec": {
      "name": "python3",
      "display_name": "Python 3.8.3 64-bit (conda)",
      "metadata": {
        "interpreter": {
          "hash": "0d6ba7c136e62973ab63962a1d3667069dfad9d27e40dfd12540e841fa15596f"
        }
      }
    },
    "colab": {
      "name": "emotion_classification_model.ipynb",
      "provenance": [],
      "collapsed_sections": []
    },
    "accelerator": "GPU"
  },
  "cells": [
    {
      "cell_type": "markdown",
      "metadata": {
        "id": "T6Kn7F_y0EM9"
      },
      "source": [
        ""
      ]
    },
    {
      "cell_type": "code",
      "metadata": {
        "colab": {
          "base_uri": "https://localhost:8080/"
        },
        "id": "kthoN-Kqzv30",
        "outputId": "6594b68a-c110-4f53-8f9e-8d354a16d54f"
      },
      "source": [
        "import pandas as pd\n",
        "import os\n",
        "import numpy as np \n",
        "import tensorflow as tf \n",
        "import cv2\n",
        "from os import walk\n",
        "from tensorflow.keras.preprocessing.image import img_to_array\n",
        "from tensorflow.keras.preprocessing.image import load_img\n",
        "from google.colab import drive\n",
        "drive.mount('/content/gdrive')\n"
      ],
      "execution_count": 4,
      "outputs": [
        {
          "output_type": "stream",
          "text": [
            "Drive already mounted at /content/gdrive; to attempt to forcibly remount, call drive.mount(\"/content/gdrive\", force_remount=True).\n"
          ],
          "name": "stdout"
        }
      ]
    },
    {
      "cell_type": "code",
      "metadata": {
        "colab": {
          "base_uri": "https://localhost:8080/"
        },
        "id": "ap-RUlmLjJDy",
        "outputId": "a13499ba-ffcf-4125-a992-89e27ade2a32"
      },
      "source": [
        "# Better copy data from Drive as an archive\r\n",
        "zip_path = '/content/gdrive/My Drive/emotion_classification/data_emotion.zip'\r\n",
        "\r\n",
        "!cp \"{zip_path}\" .\r\n",
        "\r\n",
        "!unzip -q data_emotion.zip\r\n",
        "\r\n",
        "# Remove .zip file after you unzip it\r\n",
        "!rm data_emotion.zip\r\n",
        "\r\n",
        "# Make sure it's there\r\n",
        "!ls"
      ],
      "execution_count": 5,
      "outputs": [
        {
          "output_type": "stream",
          "text": [
            "replace data/test/angry/PrivateTest_10131363.jpg? [y]es, [n]o, [A]ll, [N]one, [r]ename: N\n",
            "data  gdrive  sample_data\n"
          ],
          "name": "stdout"
        }
      ]
    },
    {
      "cell_type": "code",
      "metadata": {
        "id": "bOp7jcrAvOwr"
      },
      "source": [
        ""
      ],
      "execution_count": 5,
      "outputs": []
    },
    {
      "cell_type": "code",
      "metadata": {
        "id": "hOx7G-mkvOyb"
      },
      "source": [
        "IMG_SIZE=(48,48)"
      ],
      "execution_count": 6,
      "outputs": []
    },
    {
      "cell_type": "code",
      "metadata": {
        "colab": {
          "base_uri": "https://localhost:8080/"
        },
        "id": "IZr9JnjBzv37",
        "outputId": "cc60e919-54db-42ff-c582-e95f8e991170"
      },
      "source": [
        "## Train \n",
        "listeRepertories = []\n",
        "for (repertoire, sousRepertoires, fichiers) in walk(\"data/train\"):\n",
        "    listeRepertories.extend((sousRepertoires))\n",
        "\n",
        "classDict={}\n",
        "for i in range(len(listeRepertories)):\n",
        "    classDict[listeRepertories[i]]=i\n",
        "\n",
        "data={'path':[],'classe':[]}\n",
        "for rep in listeRepertories:\n",
        "\n",
        "    for (repertoire, sousRepertoires, fichiers) in walk(f\"data/train/{rep}\"):\n",
        "        i=0\n",
        "        for fichier in fichiers:\n",
        "          if i<40000:\n",
        "            i=i+1\n",
        "            data['path'].append(f\"data/train/{rep}/{fichier}\")\n",
        "            data['classe'].append(classDict[rep])\n",
        "\n",
        "dataTrain=pd.DataFrame(data)\n",
        "\n",
        "## Test\n",
        "\n",
        "listeRepertories = []\n",
        "for (repertoire, sousRepertoires, fichiers) in walk(\"data/test\"):\n",
        "    listeRepertories.extend((sousRepertoires))\n",
        "\n",
        "classDict={}\n",
        "for i in range(len(listeRepertories)):\n",
        "    classDict[listeRepertories[i]]=i\n",
        "\n",
        "data={'path':[],'classe':[]}\n",
        "for rep in listeRepertories:\n",
        "      for (repertoire, sousRepertoires, fichiers) in walk(f\"data/test/{rep}\"):\n",
        "        i=0 \n",
        "        for fichier in fichiers:\n",
        "          if i<40000:\n",
        "            i=i+1\n",
        "            data['path'].append(f\"data/test/{rep}/{fichier}\")\n",
        "            data['classe'].append(classDict[rep])\n",
        "\n",
        "dataTest=pd.DataFrame(data)\n",
        "\n",
        "\n",
        "\n",
        "print(\"Nos classes sont les suivantes :\")\n",
        "print(classDict)"
      ],
      "execution_count": 7,
      "outputs": [
        {
          "output_type": "stream",
          "text": [
            "Nos classes sont les suivantes :\n",
            "{'sad': 0, 'neutral': 1, 'surprise': 2, 'angry': 3, 'disgust': 4, 'happy': 5, 'fear': 6}\n"
          ],
          "name": "stdout"
        }
      ]
    },
    {
      "cell_type": "markdown",
      "metadata": {
        "id": "ofIXCKfOzv38"
      },
      "source": [
        "On a regroupé tout les chemins de nos images ainsi que leurs classes dans le dataframe suivant :"
      ]
    },
    {
      "cell_type": "code",
      "metadata": {
        "colab": {
          "base_uri": "https://localhost:8080/",
          "height": 198
        },
        "id": "TOebIYICzv39",
        "outputId": "c559be40-d867-480f-9299-1079bfe107fa"
      },
      "source": [
        "dataTrain.head()"
      ],
      "execution_count": 8,
      "outputs": [
        {
          "output_type": "execute_result",
          "data": {
            "text/html": [
              "<div>\n",
              "<style scoped>\n",
              "    .dataframe tbody tr th:only-of-type {\n",
              "        vertical-align: middle;\n",
              "    }\n",
              "\n",
              "    .dataframe tbody tr th {\n",
              "        vertical-align: top;\n",
              "    }\n",
              "\n",
              "    .dataframe thead th {\n",
              "        text-align: right;\n",
              "    }\n",
              "</style>\n",
              "<table border=\"1\" class=\"dataframe\">\n",
              "  <thead>\n",
              "    <tr style=\"text-align: right;\">\n",
              "      <th></th>\n",
              "      <th>path</th>\n",
              "      <th>classe</th>\n",
              "    </tr>\n",
              "  </thead>\n",
              "  <tbody>\n",
              "    <tr>\n",
              "      <th>0</th>\n",
              "      <td>data/train/sad/Training_47792642.jpg</td>\n",
              "      <td>0</td>\n",
              "    </tr>\n",
              "    <tr>\n",
              "      <th>1</th>\n",
              "      <td>data/train/sad/Training_8925619.jpg</td>\n",
              "      <td>0</td>\n",
              "    </tr>\n",
              "    <tr>\n",
              "      <th>2</th>\n",
              "      <td>data/train/sad/Training_49922991.jpg</td>\n",
              "      <td>0</td>\n",
              "    </tr>\n",
              "    <tr>\n",
              "      <th>3</th>\n",
              "      <td>data/train/sad/Training_23882155.jpg</td>\n",
              "      <td>0</td>\n",
              "    </tr>\n",
              "    <tr>\n",
              "      <th>4</th>\n",
              "      <td>data/train/sad/Training_68307224.jpg</td>\n",
              "      <td>0</td>\n",
              "    </tr>\n",
              "  </tbody>\n",
              "</table>\n",
              "</div>"
            ],
            "text/plain": [
              "                                   path  classe\n",
              "0  data/train/sad/Training_47792642.jpg       0\n",
              "1   data/train/sad/Training_8925619.jpg       0\n",
              "2  data/train/sad/Training_49922991.jpg       0\n",
              "3  data/train/sad/Training_23882155.jpg       0\n",
              "4  data/train/sad/Training_68307224.jpg       0"
            ]
          },
          "metadata": {
            "tags": []
          },
          "execution_count": 8
        }
      ]
    },
    {
      "cell_type": "markdown",
      "metadata": {
        "id": "SffpLs6Ezv39"
      },
      "source": [
        "On va maintenant charger nos images afin de pouvoir les utiliser pour notre entrainement."
      ]
    },
    {
      "cell_type": "code",
      "metadata": {
        "id": "W6FuKuZgzv3-",
        "colab": {
          "base_uri": "https://localhost:8080/"
        },
        "outputId": "a527dcdb-e1ab-426d-ca50-db4f74f8e49e"
      },
      "source": [
        "## Train\n",
        "\n",
        "X_train=[]\n",
        "\n",
        "for imgPath,imgClass in dataTrain.values:\n",
        "    #img=load_img(imgPath,target_size=IMG_SIZE,color_mode='grayscale')\n",
        "    #x=img_to_array(img)\n",
        "    x=cv2.imread(imgPath)\n",
        "\n",
        "    X_train.append(x)\n",
        "\n",
        "\n",
        "## Test\n",
        "\n",
        "X_test=[]\n",
        "\n",
        "for imgPath,imgClass in dataTest.values:\n",
        "    #img=load_img(imgPath,target_size=IMG_SIZE,color_mode='grayscale')\n",
        "    #x=img_to_array(img)\n",
        "    x=cv2.imread(imgPath)\n",
        "\n",
        "    X_test.append(x)\n",
        "\n",
        "\n",
        "\n",
        "len(X_train)"
      ],
      "execution_count": 9,
      "outputs": [
        {
          "output_type": "execute_result",
          "data": {
            "text/plain": [
              "28709"
            ]
          },
          "metadata": {
            "tags": []
          },
          "execution_count": 9
        }
      ]
    },
    {
      "cell_type": "code",
      "metadata": {
        "id": "_deBg34Bzv3-"
      },
      "source": [
        "y_train=dataTrain['classe'].values\n",
        "y_test=dataTest['classe'].values\n",
        "\n",
        "dataTrain=[]\n",
        "dataTest=[]"
      ],
      "execution_count": 10,
      "outputs": []
    },
    {
      "cell_type": "code",
      "metadata": {
        "id": "fye9pGadzv3-"
      },
      "source": [
        "X_train=np.array(X_train)\n",
        "X_test=np.array(X_test)\n",
        "\n",
        "X_train=(X_train.astype('float')/255)\n",
        "X_test=(X_test.astype('float')/255)"
      ],
      "execution_count": 11,
      "outputs": []
    },
    {
      "cell_type": "code",
      "metadata": {
        "id": "hFIOVI0pGkP9"
      },
      "source": [
        "from sklearn.preprocessing import LabelBinarizer\r\n",
        "lb = LabelBinarizer()\r\n",
        "y_train = lb.fit_transform(y_train)\r\n",
        "y_test = lb.fit_transform(y_test)"
      ],
      "execution_count": 12,
      "outputs": []
    },
    {
      "cell_type": "code",
      "metadata": {
        "id": "jZ-eD0G9e2l0"
      },
      "source": [
        "from tensorflow.keras.models import Sequential\r\n",
        "from tensorflow.keras.layers import Flatten, Dense, Conv2D, MaxPooling2D\r\n",
        "from tensorflow.keras.layers import Dropout, BatchNormalization, LeakyReLU, Activation\r\n",
        "from tensorflow.keras.callbacks import Callback, EarlyStopping, ReduceLROnPlateau\r\n",
        "from tensorflow.keras.preprocessing.image import ImageDataGenerator"
      ],
      "execution_count": 13,
      "outputs": []
    },
    {
      "cell_type": "code",
      "metadata": {
        "id": "vl0crZ9LBnSk"
      },
      "source": [
        "model=tf.keras.Sequential()\r\n",
        "\r\n",
        "model.add(Conv2D(32,(7,7),padding='same',kernel_initializer='he_normal',\r\n",
        "                 input_shape=(48,48,3)))\r\n",
        "model.add(Activation('elu'))\r\n",
        "model.add(BatchNormalization())\r\n",
        "model.add(MaxPooling2D(pool_size=(2,2)))\r\n",
        "\r\n",
        "model.add(Conv2D(64,(7,7),padding='same',kernel_initializer='he_normal'))\r\n",
        "model.add(Activation('elu'))\r\n",
        "model.add(BatchNormalization())\r\n",
        "model.add(MaxPooling2D(pool_size=(2,2)))\r\n",
        "\r\n",
        "model.add(Conv2D(128,(7,7),padding='same',kernel_initializer='he_normal'))\r\n",
        "model.add(Activation('elu'))\r\n",
        "model.add(BatchNormalization())\r\n",
        "model.add(MaxPooling2D(pool_size=(2,2)))\r\n",
        "model.add(Dropout(0.2))\r\n",
        "\r\n",
        "\r\n",
        "model.add(Conv2D(256,(7,7),padding='same',kernel_initializer='he_normal'))\r\n",
        "model.add(Activation('elu'))\r\n",
        "model.add(BatchNormalization())\r\n",
        "model.add(MaxPooling2D(pool_size=(2,2)))\r\n",
        "model.add(Dropout(0.2))\r\n",
        "\r\n",
        "model.add(Flatten())\r\n",
        "\r\n",
        "model.add(Dense(512,kernel_initializer='he_normal'))\r\n",
        "model.add(Activation('elu'))\r\n",
        "\r\n",
        "\r\n",
        "model.add(Dense(256,kernel_initializer='he_normal'))\r\n",
        "model.add(Activation('elu'))\r\n",
        "\r\n",
        "#Block-7\r\n",
        "model.add(Dense(7,kernel_initializer='he_normal'))\r\n",
        "model.add(Activation('softmax'))\r\n",
        "\r\n"
      ],
      "execution_count": 21,
      "outputs": []
    },
    {
      "cell_type": "code",
      "metadata": {
        "colab": {
          "base_uri": "https://localhost:8080/"
        },
        "id": "g4PHSOelWKCj",
        "outputId": "9d580570-69a5-4f9a-bd0a-26cbc8c0d1e6"
      },
      "source": [
        "model.compile(\r\n",
        "    loss='categorical_crossentropy',\r\n",
        "    optimizer=tf.keras.optimizers.Adamax(),\r\n",
        "    metrics=['accuracy']\r\n",
        ")\r\n",
        "model.summary()"
      ],
      "execution_count": 22,
      "outputs": [
        {
          "output_type": "stream",
          "text": [
            "Model: \"sequential_3\"\n",
            "_________________________________________________________________\n",
            "Layer (type)                 Output Shape              Param #   \n",
            "=================================================================\n",
            "conv2d_8 (Conv2D)            (None, 48, 48, 32)        4736      \n",
            "_________________________________________________________________\n",
            "activation_14 (Activation)   (None, 48, 48, 32)        0         \n",
            "_________________________________________________________________\n",
            "batch_normalization_8 (Batch (None, 48, 48, 32)        128       \n",
            "_________________________________________________________________\n",
            "max_pooling2d_8 (MaxPooling2 (None, 24, 24, 32)        0         \n",
            "_________________________________________________________________\n",
            "conv2d_9 (Conv2D)            (None, 24, 24, 64)        100416    \n",
            "_________________________________________________________________\n",
            "activation_15 (Activation)   (None, 24, 24, 64)        0         \n",
            "_________________________________________________________________\n",
            "batch_normalization_9 (Batch (None, 24, 24, 64)        256       \n",
            "_________________________________________________________________\n",
            "max_pooling2d_9 (MaxPooling2 (None, 12, 12, 64)        0         \n",
            "_________________________________________________________________\n",
            "conv2d_10 (Conv2D)           (None, 12, 12, 128)       401536    \n",
            "_________________________________________________________________\n",
            "activation_16 (Activation)   (None, 12, 12, 128)       0         \n",
            "_________________________________________________________________\n",
            "batch_normalization_10 (Batc (None, 12, 12, 128)       512       \n",
            "_________________________________________________________________\n",
            "max_pooling2d_10 (MaxPooling (None, 6, 6, 128)         0         \n",
            "_________________________________________________________________\n",
            "dropout_4 (Dropout)          (None, 6, 6, 128)         0         \n",
            "_________________________________________________________________\n",
            "conv2d_11 (Conv2D)           (None, 6, 6, 256)         1605888   \n",
            "_________________________________________________________________\n",
            "activation_17 (Activation)   (None, 6, 6, 256)         0         \n",
            "_________________________________________________________________\n",
            "batch_normalization_11 (Batc (None, 6, 6, 256)         1024      \n",
            "_________________________________________________________________\n",
            "max_pooling2d_11 (MaxPooling (None, 3, 3, 256)         0         \n",
            "_________________________________________________________________\n",
            "dropout_5 (Dropout)          (None, 3, 3, 256)         0         \n",
            "_________________________________________________________________\n",
            "flatten_2 (Flatten)          (None, 2304)              0         \n",
            "_________________________________________________________________\n",
            "dense_6 (Dense)              (None, 512)               1180160   \n",
            "_________________________________________________________________\n",
            "activation_18 (Activation)   (None, 512)               0         \n",
            "_________________________________________________________________\n",
            "dense_7 (Dense)              (None, 256)               131328    \n",
            "_________________________________________________________________\n",
            "activation_19 (Activation)   (None, 256)               0         \n",
            "_________________________________________________________________\n",
            "dense_8 (Dense)              (None, 7)                 1799      \n",
            "_________________________________________________________________\n",
            "activation_20 (Activation)   (None, 7)                 0         \n",
            "=================================================================\n",
            "Total params: 3,427,783\n",
            "Trainable params: 3,426,823\n",
            "Non-trainable params: 960\n",
            "_________________________________________________________________\n"
          ],
          "name": "stdout"
        }
      ]
    },
    {
      "cell_type": "code",
      "metadata": {
        "colab": {
          "base_uri": "https://localhost:8080/"
        },
        "id": "ETWH0OSECvzX",
        "outputId": "e8a7beda-0957-4500-bb6a-4e640556c192"
      },
      "source": [
        "early_stopping = EarlyStopping(\r\n",
        "    monitor='val_accuracy',\r\n",
        "    min_delta=0.00005,\r\n",
        "    patience=11,\r\n",
        "    verbose=1,\r\n",
        "    restore_best_weights=True,\r\n",
        ")\r\n",
        "\r\n",
        "lr_scheduler = ReduceLROnPlateau(\r\n",
        "    monitor='val_accuracy',\r\n",
        "    factor=0.5,\r\n",
        "    patience=7,\r\n",
        "    min_lr=1e-7,\r\n",
        "    verbose=1,\r\n",
        ")\r\n",
        "\r\n",
        "callbacks = [\r\n",
        "    early_stopping,\r\n",
        "    lr_scheduler,\r\n",
        "]\r\n",
        "\r\n",
        "\r\n",
        "history = model.fit(X_train,y_train,\r\n",
        "                    epochs=100,\r\n",
        "                    shuffle=True,\r\n",
        "                    validation_data=(X_test,y_test),\r\n",
        "                    callbacks=callbacks)"
      ],
      "execution_count": 23,
      "outputs": [
        {
          "output_type": "stream",
          "text": [
            "Epoch 1/100\n",
            "898/898 [==============================] - 26s 27ms/step - loss: 2.2405 - accuracy: 0.2681 - val_loss: 1.5957 - val_accuracy: 0.3664\n",
            "Epoch 2/100\n",
            "898/898 [==============================] - 24s 27ms/step - loss: 1.5201 - accuracy: 0.4133 - val_loss: 1.7197 - val_accuracy: 0.3877\n",
            "Epoch 3/100\n",
            "898/898 [==============================] - 24s 27ms/step - loss: 1.3152 - accuracy: 0.4957 - val_loss: 1.2763 - val_accuracy: 0.5118\n",
            "Epoch 4/100\n",
            "898/898 [==============================] - 24s 27ms/step - loss: 1.1459 - accuracy: 0.5675 - val_loss: 1.3215 - val_accuracy: 0.4811\n",
            "Epoch 5/100\n",
            "898/898 [==============================] - 24s 27ms/step - loss: 1.0002 - accuracy: 0.6179 - val_loss: 1.4356 - val_accuracy: 0.4802\n",
            "Epoch 6/100\n",
            "898/898 [==============================] - 24s 27ms/step - loss: 0.7977 - accuracy: 0.7008 - val_loss: 1.2124 - val_accuracy: 0.5659\n",
            "Epoch 7/100\n",
            "898/898 [==============================] - 24s 27ms/step - loss: 0.6030 - accuracy: 0.7767 - val_loss: 1.3307 - val_accuracy: 0.5528\n",
            "Epoch 8/100\n",
            "898/898 [==============================] - 24s 27ms/step - loss: 0.4547 - accuracy: 0.8378 - val_loss: 1.3777 - val_accuracy: 0.5740\n",
            "Epoch 9/100\n",
            "898/898 [==============================] - 24s 27ms/step - loss: 0.3309 - accuracy: 0.8840 - val_loss: 1.5766 - val_accuracy: 0.5502\n",
            "Epoch 10/100\n",
            "898/898 [==============================] - 24s 27ms/step - loss: 0.2588 - accuracy: 0.9099 - val_loss: 1.6764 - val_accuracy: 0.5683\n",
            "Epoch 11/100\n",
            "898/898 [==============================] - 24s 27ms/step - loss: 0.2059 - accuracy: 0.9283 - val_loss: 1.6097 - val_accuracy: 0.5853\n",
            "Epoch 12/100\n",
            "898/898 [==============================] - 24s 27ms/step - loss: 0.1649 - accuracy: 0.9436 - val_loss: 1.8247 - val_accuracy: 0.5755\n",
            "Epoch 13/100\n",
            "898/898 [==============================] - 24s 27ms/step - loss: 0.1564 - accuracy: 0.9462 - val_loss: 1.7914 - val_accuracy: 0.5814\n",
            "Epoch 14/100\n",
            "898/898 [==============================] - 24s 27ms/step - loss: 0.1365 - accuracy: 0.9525 - val_loss: 1.8690 - val_accuracy: 0.5816\n",
            "Epoch 15/100\n",
            "898/898 [==============================] - 24s 27ms/step - loss: 0.1128 - accuracy: 0.9618 - val_loss: 1.9383 - val_accuracy: 0.5773\n",
            "Epoch 16/100\n",
            "898/898 [==============================] - 24s 27ms/step - loss: 0.1186 - accuracy: 0.9597 - val_loss: 1.9965 - val_accuracy: 0.5992\n",
            "Epoch 17/100\n",
            "898/898 [==============================] - 24s 27ms/step - loss: 0.1000 - accuracy: 0.9668 - val_loss: 2.0811 - val_accuracy: 0.5869\n",
            "Epoch 18/100\n",
            "898/898 [==============================] - 24s 27ms/step - loss: 0.0894 - accuracy: 0.9687 - val_loss: 2.0220 - val_accuracy: 0.5786\n",
            "Epoch 19/100\n",
            "898/898 [==============================] - 24s 27ms/step - loss: 0.0807 - accuracy: 0.9724 - val_loss: 2.2279 - val_accuracy: 0.5853\n",
            "Epoch 20/100\n",
            "898/898 [==============================] - 24s 27ms/step - loss: 0.0805 - accuracy: 0.9741 - val_loss: 2.1757 - val_accuracy: 0.5875\n",
            "Epoch 21/100\n",
            "898/898 [==============================] - 24s 27ms/step - loss: 0.0777 - accuracy: 0.9749 - val_loss: 2.1119 - val_accuracy: 0.5890\n",
            "Epoch 22/100\n",
            "898/898 [==============================] - 24s 27ms/step - loss: 0.0662 - accuracy: 0.9774 - val_loss: 2.3398 - val_accuracy: 0.5719\n",
            "Epoch 23/100\n",
            "898/898 [==============================] - 25s 27ms/step - loss: 0.0721 - accuracy: 0.9759 - val_loss: 2.3218 - val_accuracy: 0.5892\n",
            "\n",
            "Epoch 00023: ReduceLROnPlateau reducing learning rate to 0.0005000000237487257.\n",
            "Epoch 24/100\n",
            "898/898 [==============================] - 25s 27ms/step - loss: 0.0503 - accuracy: 0.9826 - val_loss: 2.3660 - val_accuracy: 0.5883\n",
            "Epoch 25/100\n",
            "898/898 [==============================] - 24s 27ms/step - loss: 0.0340 - accuracy: 0.9884 - val_loss: 2.4093 - val_accuracy: 0.5908\n",
            "Epoch 26/100\n",
            "898/898 [==============================] - 24s 27ms/step - loss: 0.0276 - accuracy: 0.9910 - val_loss: 2.4945 - val_accuracy: 0.5988\n",
            "Epoch 27/100\n",
            "898/898 [==============================] - 24s 27ms/step - loss: 0.0251 - accuracy: 0.9906 - val_loss: 2.5699 - val_accuracy: 0.5964\n",
            "Restoring model weights from the end of the best epoch.\n",
            "Epoch 00027: early stopping\n"
          ],
          "name": "stdout"
        }
      ]
    },
    {
      "cell_type": "code",
      "metadata": {
        "id": "F_ivH-m2auNw",
        "colab": {
          "base_uri": "https://localhost:8080/"
        },
        "outputId": "b79e3f9e-5f4e-4049-f6cd-d96ccedbe035"
      },
      "source": [
        "model.compile(\n",
        "    loss='categorical_crossentropy',\n",
        "    optimizer=tf.keras.optimizers.Adamax(learning_rate=0.00001, \n",
        "                                           beta_1=0.97, beta_2=0.97, \n",
        "                                           epsilon=1e-07),\n",
        "    metrics=['accuracy']\n",
        ")\n",
        "history = model.fit(X_train,y_train,\n",
        "                    epochs=100,\n",
        "                    shuffle=True,\n",
        "                    validation_data=(X_test,y_test),\n",
        "                    callbacks=callbacks)"
      ],
      "execution_count": 24,
      "outputs": [
        {
          "output_type": "stream",
          "text": [
            "Epoch 1/100\n",
            "898/898 [==============================] - 26s 28ms/step - loss: 0.0793 - accuracy: 0.9739 - val_loss: 1.9703 - val_accuracy: 0.6021\n",
            "Epoch 2/100\n",
            "898/898 [==============================] - 24s 27ms/step - loss: 0.0588 - accuracy: 0.9806 - val_loss: 1.9854 - val_accuracy: 0.6046\n",
            "Epoch 3/100\n",
            "898/898 [==============================] - 24s 27ms/step - loss: 0.0544 - accuracy: 0.9841 - val_loss: 2.0174 - val_accuracy: 0.6043\n",
            "Epoch 4/100\n",
            "898/898 [==============================] - 24s 27ms/step - loss: 0.0487 - accuracy: 0.9846 - val_loss: 2.0419 - val_accuracy: 0.6073\n",
            "Epoch 5/100\n",
            "898/898 [==============================] - 24s 27ms/step - loss: 0.0426 - accuracy: 0.9856 - val_loss: 2.0744 - val_accuracy: 0.6071\n",
            "Epoch 6/100\n",
            "898/898 [==============================] - 24s 27ms/step - loss: 0.0387 - accuracy: 0.9875 - val_loss: 2.1125 - val_accuracy: 0.6080\n",
            "Epoch 7/100\n",
            "898/898 [==============================] - 25s 27ms/step - loss: 0.0342 - accuracy: 0.9894 - val_loss: 2.1403 - val_accuracy: 0.6085\n",
            "Epoch 8/100\n",
            "898/898 [==============================] - 24s 27ms/step - loss: 0.0316 - accuracy: 0.9896 - val_loss: 2.1595 - val_accuracy: 0.6066\n",
            "Epoch 9/100\n",
            "898/898 [==============================] - 24s 27ms/step - loss: 0.0332 - accuracy: 0.9888 - val_loss: 2.1811 - val_accuracy: 0.6085\n",
            "Epoch 10/100\n",
            "898/898 [==============================] - 25s 27ms/step - loss: 0.0280 - accuracy: 0.9917 - val_loss: 2.2123 - val_accuracy: 0.6063\n",
            "Epoch 11/100\n",
            "898/898 [==============================] - 25s 28ms/step - loss: 0.0304 - accuracy: 0.9910 - val_loss: 2.2334 - val_accuracy: 0.6077\n",
            "Epoch 12/100\n",
            "898/898 [==============================] - 25s 27ms/step - loss: 0.0316 - accuracy: 0.9904 - val_loss: 2.2595 - val_accuracy: 0.6074\n",
            "Epoch 13/100\n",
            "898/898 [==============================] - 25s 27ms/step - loss: 0.0299 - accuracy: 0.9895 - val_loss: 2.2638 - val_accuracy: 0.6064\n",
            "Epoch 14/100\n",
            "898/898 [==============================] - 24s 27ms/step - loss: 0.0260 - accuracy: 0.9911 - val_loss: 2.2993 - val_accuracy: 0.6063\n",
            "\n",
            "Epoch 00014: ReduceLROnPlateau reducing learning rate to 4.999999873689376e-06.\n",
            "Epoch 15/100\n",
            "898/898 [==============================] - 25s 27ms/step - loss: 0.0233 - accuracy: 0.9922 - val_loss: 2.3011 - val_accuracy: 0.6070\n",
            "Epoch 16/100\n",
            "898/898 [==============================] - 24s 27ms/step - loss: 0.0255 - accuracy: 0.9915 - val_loss: 2.3077 - val_accuracy: 0.6064\n",
            "Epoch 17/100\n",
            "898/898 [==============================] - 24s 27ms/step - loss: 0.0224 - accuracy: 0.9921 - val_loss: 2.3215 - val_accuracy: 0.6082\n",
            "Epoch 18/100\n",
            "898/898 [==============================] - 24s 27ms/step - loss: 0.0236 - accuracy: 0.9921 - val_loss: 2.3283 - val_accuracy: 0.6076\n",
            "Restoring model weights from the end of the best epoch.\n",
            "Epoch 00018: early stopping\n"
          ],
          "name": "stdout"
        }
      ]
    },
    {
      "cell_type": "code",
      "metadata": {
        "id": "JXFmNfb8Xm5-"
      },
      "source": [
        "from sklearn import metrics\r\n",
        "import seaborn as sns\r\n",
        "import matplotlib.pyplot as plt\r\n",
        "\r\n",
        "y_pred=model.predict_classes(X_test)\r\n",
        "score=metrics.accuracy_score((np.argmax(y_test,axis=1)),y_pred)\r\n",
        "\r\n",
        "loss_values = history.history['loss']\r\n",
        "epochs = range(1, len(loss_values)+1)\r\n",
        "\r\n",
        "plt.plot(epochs, loss_values, label='Training Loss')\r\n",
        "plt.xlabel('Epochs')\r\n",
        "plt.ylabel('Loss')\r\n",
        "plt.legend()\r\n",
        "\r\n",
        "plt.show()\r\n",
        "\r\n",
        "print(\"Nous avons une accuracy de : {}\".format(score))\r\n",
        "\r\n",
        "cm = metrics.confusion_matrix(np.argmax(y_test,axis=1), y_pred)\r\n",
        "plt.figure(figsize=(6,6))\r\n",
        "sns.heatmap(cm, annot=True, fmt=\".0f\", linewidths=.5, square = True, cmap = 'viridis')\r\n",
        "plt.ylabel('Actual label')\r\n",
        "plt.xlabel('Predicted label')\r\n",
        "plt.title(\"Matrice de confusion\", size = 20)\r\n",
        "plt.show()"
      ],
      "execution_count": null,
      "outputs": []
    },
    {
      "cell_type": "code",
      "metadata": {
        "colab": {
          "base_uri": "https://localhost:8080/"
        },
        "id": "kD1Xrn6x0337",
        "outputId": "c2c6cdf5-ae88-45c4-b03b-8285f4019682"
      },
      "source": [
        "model.save(\"/content/gdrive/My Drive/emotion_classification/emotion_classification_model\")"
      ],
      "execution_count": 26,
      "outputs": [
        {
          "output_type": "stream",
          "text": [
            "INFO:tensorflow:Assets written to: /content/gdrive/My Drive/emotion_classification/emotion_classification_model/assets\n"
          ],
          "name": "stdout"
        }
      ]
    }
  ]
}